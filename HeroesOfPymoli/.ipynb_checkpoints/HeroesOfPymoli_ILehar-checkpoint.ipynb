{
 "cells": [
  {
   "cell_type": "markdown",
   "metadata": {},
   "source": [
    "### Note\n",
    "* Instructions have been included for each segment. You do not have to follow them exactly, but they are included to help you think through the steps."
   ]
  },
  {
   "cell_type": "code",
   "execution_count": null,
   "metadata": {},
   "outputs": [],
   "source": [
    "# Dependencies and Setup\n",
    "import pandas as pd\n",
    "\n",
    "# File to Load (Remember to Change These)\n",
    "file= \"Resources/purchase_data.csv\"\n",
    "\n",
    "# Read Purchasing File and store into Pandas data frame\n",
    "purchase_data = pd.read_csv(file)\n",
    "purchase_data_df=pd.read_csv(file)\n",
    "purchase_data_df.head()"
   ]
  },
  {
   "cell_type": "markdown",
   "metadata": {},
   "source": [
    "## Player Count"
   ]
  },
  {
   "cell_type": "markdown",
   "metadata": {},
   "source": [
    "* Display the total number of players\n"
   ]
  },
  {
   "cell_type": "code",
   "execution_count": null,
   "metadata": {},
   "outputs": [],
   "source": [
    "player_types= purchase_data_df.loc[:, [\"Gender\", \"SN\", \"Age\"]]\n",
    "player_types = player_types.drop_duplicates()\n",
    "player_number = player_types.count()[0]     # Display the total number of players\n",
    "pd.DataFrame({\"Total Players\": [player_number]})\n"
   ]
  },
  {
   "cell_type": "markdown",
   "metadata": {},
   "source": [
    "## Purchasing Analysis (Total)"
   ]
  },
  {
   "cell_type": "markdown",
   "metadata": {},
   "source": [
    "* Run basic calculations to obtain number of unique items, average price, etc.\n",
    "\n",
    "\n",
    "* Create a summary data frame to hold the results\n",
    "\n",
    "\n",
    "* Optional: give the displayed data cleaner formatting\n",
    "\n",
    "\n",
    "* Display the summary data frame\n"
   ]
  },
  {
   "cell_type": "code",
   "execution_count": null,
   "metadata": {
    "scrolled": true
   },
   "outputs": [],
   "source": [
    "unique_items = len(purchase_data_df['Item ID'].unique())\n",
    "average_price= round(float(purchase_data_df['Price'].mean()), 2)\n",
    "purchase_count = len(purchase_data_df['Price'])\n",
    "price_total= float(purchase_data_df['Price'].sum())\n",
    "price_total\n",
    "\n",
    "summary_dataframe = pd.DataFrame({\n",
    "    'Number of Unique Items': [unique_items],\n",
    "    'Average Price': '$' + str(average_price),\n",
    "    'Number of Purchases': [purchase_count],\n",
    "    'Total Revenue': '$' + str(price_total)})\n",
    "\n",
    "summary_dataframe"
   ]
  },
  {
   "cell_type": "markdown",
   "metadata": {},
   "source": [
    "## Gender Demographics"
   ]
  },
  {
   "cell_type": "markdown",
   "metadata": {},
   "source": [
    "* Percentage and Count of Male Players\n",
    "\n",
    "\n",
    "* Percentage and Count of Female Players\n",
    "\n",
    "\n",
    "* Percentage and Count of Other / Non-Disclosed\n",
    "\n",
    "\n"
   ]
  },
  {
   "cell_type": "code",
   "execution_count": null,
   "metadata": {},
   "outputs": [],
   "source": [
    "df_genderDemos = purchase_data_df[['Gender','SN']].drop_duplicates(subset = 'SN')\n",
    "\n",
    "gender_count = df_genderDemos['Gender'].value_counts(0)\n",
    "gender_percent = df_genderDemos['Gender'].value_counts(1)\n",
    "\n",
    "gender_count_df = pd.DataFrame(gender_count)\n",
    "gender_percent_df = round(pd.DataFrame(gender_percent) * 100, 2).astype(str)+'%'\n",
    "\n",
    "gender_summary_df = gender_count_df.merge(gender_percent_df, left_index = True, right_index = True)\n",
    "gender_summary_df.columns = ['Total Count', 'Percentage of Players']\n",
    "gender_summary_df"
   ]
  },
  {
   "cell_type": "markdown",
   "metadata": {},
   "source": [
    "\n",
    "## Purchasing Analysis (Gender)"
   ]
  },
  {
   "cell_type": "markdown",
   "metadata": {},
   "source": [
    "* Run basic calculations to obtain purchase count, avg. purchase price, avg. purchase total per person etc. by gender\n",
    "\n",
    "\n",
    "\n",
    "\n",
    "* Create a summary data frame to hold the results\n",
    "\n",
    "\n",
    "* Optional: give the displayed data cleaner formatting\n",
    "\n",
    "\n",
    "* Display the summary data frame"
   ]
  },
  {
   "cell_type": "code",
   "execution_count": null,
   "metadata": {},
   "outputs": [],
   "source": [
    "df_pa_gender = purchase_data_df.groupby('Gender')\n",
    "\n",
    "purchase_count = round(df_pa_gender['Purchase ID'].count(), 0)\n",
    "avg_purchase_price = round(df_pa_gender['Price'].mean(), 2).map(\"${:,.2f}\".format)\n",
    "total_purchase_value = round(df_pa_gender['Price'].sum(), 2)\n",
    "purchase_value_per_gender = round(total_purchase_value / gender_count, 2).map(\"${:,.2f}\".format)\n",
    "\n",
    "summary_dataframe2 = pd.DataFrame([purchase_count, avg_purchase_price, total_purchase_value, purchase_value_per_gender])\n",
    "summary_pa_gender = summary_dataframe2.T\n",
    "\n",
    "summary_pa_gender.columns = ['Purchase Count','Average Purchase Price','Total Purchase Value', 'Avg Total Purchase per Person']\n",
    "\n",
    "summary_pa_gender.style.format({\"Total Purchase Value\": \"${:,.2f}\"}) "
   ]
  },
  {
   "cell_type": "markdown",
   "metadata": {},
   "source": [
    "## Age Demographics"
   ]
  },
  {
   "cell_type": "markdown",
   "metadata": {},
   "source": [
    "* Establish bins for ages\n",
    "\n",
    "\n",
    "* Categorize the existing players using the age bins. Hint: use pd.cut()\n",
    "\n",
    "\n",
    "* Calculate the numbers and percentages by age group\n",
    "\n",
    "\n",
    "* Create a summary data frame to hold the results\n",
    "\n",
    "\n",
    "* Optional: round the percentage column to two decimal points\n",
    "\n",
    "\n",
    "* Display Age Demographics Table\n"
   ]
  },
  {
   "cell_type": "code",
   "execution_count": null,
   "metadata": {},
   "outputs": [],
   "source": [
    "bins = [0, 9, 14, 19, 24, 29, 34, 39, 150]\n",
    "bin_labels = ['<10', '10-14', '15-19', '20-24', '25-29', '30-34', '35-39', '40+']\n",
    "\n",
    "purchase_data_df[\"Total Count\"] = pd.cut(purchase_data_df[\"Age\"], bins, labels=bin_labels)\n",
    "df_age1 = purchase_data_df[['Total Count','SN']].drop_duplicates(subset = 'SN')\n",
    "\n",
    "age_demographics_summary = df_age1.groupby(\"Total Count\").count()\n",
    "age_counts = age_demographics_summary['SN']\n",
    "age_demographics_percentages = round(age_counts / 576 * 100, 2).astype(str)+'%'\n",
    "age_demographics_percentages\n",
    "\n",
    "summary_dataframe3 = pd.DataFrame([age_counts, age_demographics_percentages])\n",
    "\n",
    "summary_data = summary_dataframe3.T.astype(str)\n",
    "\n",
    "summary_data.columns = ['Total Count', 'Percentage of Players']\n",
    "\n",
    "summary_data.head(8)"
   ]
  },
  {
   "cell_type": "markdown",
   "metadata": {},
   "source": [
    "## Purchasing Analysis (Age)"
   ]
  },
  {
   "cell_type": "markdown",
   "metadata": {},
   "source": [
    "* Bin the purchase_data data frame by age\n",
    "\n",
    "\n",
    "* Run basic calculations to obtain purchase count, avg. purchase price, avg. purchase total per person etc. in the table below\n",
    "\n",
    "\n",
    "* Create a summary data frame to hold the results\n",
    "\n",
    "\n",
    "* Optional: give the displayed data cleaner formatting\n",
    "\n",
    "\n",
    "* Display the summary data frame"
   ]
  },
  {
   "cell_type": "code",
   "execution_count": null,
   "metadata": {},
   "outputs": [],
   "source": [
    "bins = [0, 9, 14, 19, 24, 29, 34, 39, 150]\n",
    "bin_labels = ['<10', '10-14', '15-19', '20-24', '25-29', '30-34', '35-39', '40+']\n",
    "\n",
    "purchase_data_df[\"Total Count\"] = pd.cut(purchase_data_df[\"Age\"], bins, labels=bin_labels)\n",
    "min_rows = purchase_data_df[['Total Count','SN', 'Price']]\n",
    "\n",
    "min_rows_grouped = min_rows.groupby('Total Count')\n",
    "purchase_counts = min_rows_grouped['Price'].count()\n",
    "average_prices = round(min_rows_grouped['Price'].mean(),2).map(\"${:,.2f}\".format)\n",
    "\n",
    "total_spent = round(min_rows_grouped['Price'].sum(),2)\n",
    "\n",
    "spending_per_person = round(total_spent/age_counts,2).map(\"${:,.2f}\".format)\n",
    "\n",
    "                          \n",
    "summary_pa_age = pd.DataFrame([purchase_counts, average_prices, total_spent, spending_per_person])\n",
    "summary_pa_age_b = summary_pa_age.T\n",
    "summary_pa_age_b.columns = ['Purchase Count', 'Average Purchase Price', 'Total Purchase Value', 'Avg Total Purchase per Person']\n",
    "\n",
    "\n",
    "summary_pa_age_b.head(8).style.format({\"Total Purchase Value\": \"${:,.2f}\"})"
   ]
  },
  {
   "cell_type": "markdown",
   "metadata": {},
   "source": [
    "## Top Spenders"
   ]
  },
  {
   "cell_type": "markdown",
   "metadata": {},
   "source": [
    "* Run basic calculations to obtain the results in the table below\n",
    "\n",
    "\n",
    "* Create a summary data frame to hold the results\n",
    "\n",
    "\n",
    "* Sort the total purchase value column in descending order\n",
    "\n",
    "\n",
    "* Optional: give the displayed data cleaner formatting\n",
    "\n",
    "\n",
    "* Display a preview of the summary data frame\n",
    "\n"
   ]
  },
  {
   "cell_type": "code",
   "execution_count": null,
   "metadata": {},
   "outputs": [],
   "source": [
    "df_sn_2 = purchase_data_df.groupby('SN')\n",
    "purchase_counts = df_sn_2['Gender'].count()\n",
    "average_spending = round(df_sn_2['Price'].mean(),2).map('${:,.2f}'.format)\n",
    "total_purchase = round(df_sn_2['Price'].sum(),2).map('${:,.2f}'.format)\n",
    "\n",
    "summary6 = pd.DataFrame([purchase_counts, average_spending, total_purchase])\n",
    "summary7 = summary6.T\n",
    "summary7.columns = ['Purchase Count', 'Average Purchase Price', 'Total Purchase Value']\n",
    "\n",
    "summary7.sort_values('Total Purchase Value', ascending=False).reset_index().head()"
   ]
  },
  {
   "cell_type": "markdown",
   "metadata": {},
   "source": [
    "## Most Popular Items"
   ]
  },
  {
   "cell_type": "markdown",
   "metadata": {},
   "source": [
    "* Retrieve the Item ID, Item Name, and Item Price columns\n",
    "\n",
    "\n",
    "* Group by Item ID and Item Name. Perform calculations to obtain purchase count, average item price, and total purchase value\n",
    "\n",
    "\n",
    "* Create a summary data frame to hold the results\n",
    "\n",
    "\n",
    "* Sort the purchase count column in descending order\n",
    "\n",
    "\n",
    "* Optional: give the displayed data cleaner formatting\n",
    "\n",
    "\n",
    "* Display a preview of the summary data frame\n",
    "\n"
   ]
  },
  {
   "cell_type": "code",
   "execution_count": null,
   "metadata": {},
   "outputs": [],
   "source": [
    "df_pop_items = purchase_data_df.groupby(['Item ID', 'Item Name'])\n",
    "purchase_counts2 = df_pop_items['Gender'].count()                                   \n",
    "average_spending2 = round(df_pop_items['Price'].mean(),2).map(\"${:,.2f}\".format)\n",
    "total_purchase2 = round(df_pop_items['Price'].sum(),2).map(\"${:,.2f}\".format)\n",
    "\n",
    "\n",
    "summary7 = pd.DataFrame([purchase_counts2, average_spending2, total_purchase2])\n",
    "summary8 = summary7.T\n",
    "summary8.columns = ['Purchase Count', 'Item Price', 'Total Purchase Value']\n",
    "\n",
    "summary8.sort_values('Total Purchase Value', ascending=False).head()\n",
    "\n",
    "summary9.head()"
   ]
  },
  {
   "cell_type": "markdown",
   "metadata": {},
   "source": [
    "## Most Profitable Items"
   ]
  },
  {
   "cell_type": "markdown",
   "metadata": {},
   "source": [
    "* Sort the above table by total purchase value in descending order\n",
    "\n",
    "\n",
    "* Optional: give the displayed data cleaner formatting\n",
    "\n",
    "\n",
    "* Display a preview of the data frame\n",
    "\n"
   ]
  },
  {
   "cell_type": "code",
   "execution_count": null,
   "metadata": {
    "scrolled": true
   },
   "outputs": [],
   "source": [
    "summary8.sort_values('Total Purchase Value', ascending=False).head()"
   ]
  },
  {
   "cell_type": "code",
   "execution_count": null,
   "metadata": {},
   "outputs": [],
   "source": []
  }
 ],
 "metadata": {
  "anaconda-cloud": {},
  "kernel_info": {
   "name": "python3"
  },
  "kernelspec": {
   "display_name": "Python 3",
   "language": "python",
   "name": "python3"
  },
  "language_info": {
   "codemirror_mode": {
    "name": "ipython",
    "version": 3
   },
   "file_extension": ".py",
   "mimetype": "text/x-python",
   "name": "python",
   "nbconvert_exporter": "python",
   "pygments_lexer": "ipython3",
   "version": "3.8.5"
  },
  "latex_envs": {
   "LaTeX_envs_menu_present": true,
   "autoclose": false,
   "autocomplete": true,
   "bibliofile": "biblio.bib",
   "cite_by": "apalike",
   "current_citInitial": 1,
   "eqLabelWithNumbers": true,
   "eqNumInitial": 1,
   "hotkeys": {
    "equation": "Ctrl-E",
    "itemize": "Ctrl-I"
   },
   "labels_anchors": false,
   "latex_user_defs": false,
   "report_style_numbering": false,
   "user_envs_cfg": false
  },
  "nteract": {
   "version": "0.2.0"
  }
 },
 "nbformat": 4,
 "nbformat_minor": 2
}
