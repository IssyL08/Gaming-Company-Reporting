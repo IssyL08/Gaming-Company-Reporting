{
 "cells": [
  {
   "cell_type": "markdown",
   "metadata": {},
   "source": [
    "### Note\n",
    "* Instructions have been included for each segment. You do not have to follow them exactly, but they are included to help you think through the steps."
   ]
  },
  {
   "cell_type": "code",
   "execution_count": 3,
   "metadata": {},
   "outputs": [
    {
     "data": {
      "text/html": [
       "<div>\n",
       "<style scoped>\n",
       "    .dataframe tbody tr th:only-of-type {\n",
       "        vertical-align: middle;\n",
       "    }\n",
       "\n",
       "    .dataframe tbody tr th {\n",
       "        vertical-align: top;\n",
       "    }\n",
       "\n",
       "    .dataframe thead th {\n",
       "        text-align: right;\n",
       "    }\n",
       "</style>\n",
       "<table border=\"1\" class=\"dataframe\">\n",
       "  <thead>\n",
       "    <tr style=\"text-align: right;\">\n",
       "      <th></th>\n",
       "      <th>Purchase ID</th>\n",
       "      <th>SN</th>\n",
       "      <th>Age</th>\n",
       "      <th>Gender</th>\n",
       "      <th>Item ID</th>\n",
       "      <th>Item Name</th>\n",
       "      <th>Price</th>\n",
       "    </tr>\n",
       "  </thead>\n",
       "  <tbody>\n",
       "    <tr>\n",
       "      <th>0</th>\n",
       "      <td>0</td>\n",
       "      <td>Lisim78</td>\n",
       "      <td>20</td>\n",
       "      <td>Male</td>\n",
       "      <td>108</td>\n",
       "      <td>Extraction, Quickblade Of Trembling Hands</td>\n",
       "      <td>3.53</td>\n",
       "    </tr>\n",
       "    <tr>\n",
       "      <th>1</th>\n",
       "      <td>1</td>\n",
       "      <td>Lisovynya38</td>\n",
       "      <td>40</td>\n",
       "      <td>Male</td>\n",
       "      <td>143</td>\n",
       "      <td>Frenzied Scimitar</td>\n",
       "      <td>1.56</td>\n",
       "    </tr>\n",
       "    <tr>\n",
       "      <th>2</th>\n",
       "      <td>2</td>\n",
       "      <td>Ithergue48</td>\n",
       "      <td>24</td>\n",
       "      <td>Male</td>\n",
       "      <td>92</td>\n",
       "      <td>Final Critic</td>\n",
       "      <td>4.88</td>\n",
       "    </tr>\n",
       "    <tr>\n",
       "      <th>3</th>\n",
       "      <td>3</td>\n",
       "      <td>Chamassasya86</td>\n",
       "      <td>24</td>\n",
       "      <td>Male</td>\n",
       "      <td>100</td>\n",
       "      <td>Blindscythe</td>\n",
       "      <td>3.27</td>\n",
       "    </tr>\n",
       "    <tr>\n",
       "      <th>4</th>\n",
       "      <td>4</td>\n",
       "      <td>Iskosia90</td>\n",
       "      <td>23</td>\n",
       "      <td>Male</td>\n",
       "      <td>131</td>\n",
       "      <td>Fury</td>\n",
       "      <td>1.44</td>\n",
       "    </tr>\n",
       "  </tbody>\n",
       "</table>\n",
       "</div>"
      ],
      "text/plain": [
       "   Purchase ID             SN  Age Gender  Item ID  \\\n",
       "0            0        Lisim78   20   Male      108   \n",
       "1            1    Lisovynya38   40   Male      143   \n",
       "2            2     Ithergue48   24   Male       92   \n",
       "3            3  Chamassasya86   24   Male      100   \n",
       "4            4      Iskosia90   23   Male      131   \n",
       "\n",
       "                                   Item Name  Price  \n",
       "0  Extraction, Quickblade Of Trembling Hands   3.53  \n",
       "1                          Frenzied Scimitar   1.56  \n",
       "2                               Final Critic   4.88  \n",
       "3                                Blindscythe   3.27  \n",
       "4                                       Fury   1.44  "
      ]
     },
     "execution_count": 3,
     "metadata": {},
     "output_type": "execute_result"
    }
   ],
   "source": [
    "# Dependencies and Setup\n",
    "import pandas as pd\n",
    "\n",
    "# File to Load (Remember to Change These)\n",
    "file= \"Resources/purchase_data.csv\"\n",
    "\n",
    "# Read Purchasing File and store into Pandas data frame\n",
    "purchase_data = pd.read_csv(file)\n",
    "purchase_data_df=pd.read_csv(file)\n",
    "purchase_data_df.head()"
   ]
  },
  {
   "cell_type": "markdown",
   "metadata": {},
   "source": [
    "## Player Count"
   ]
  },
  {
   "cell_type": "markdown",
   "metadata": {},
   "source": [
    "* Display the total number of players\n"
   ]
  },
  {
   "cell_type": "code",
   "execution_count": 4,
   "metadata": {},
   "outputs": [
    {
     "data": {
      "text/html": [
       "<div>\n",
       "<style scoped>\n",
       "    .dataframe tbody tr th:only-of-type {\n",
       "        vertical-align: middle;\n",
       "    }\n",
       "\n",
       "    .dataframe tbody tr th {\n",
       "        vertical-align: top;\n",
       "    }\n",
       "\n",
       "    .dataframe thead th {\n",
       "        text-align: right;\n",
       "    }\n",
       "</style>\n",
       "<table border=\"1\" class=\"dataframe\">\n",
       "  <thead>\n",
       "    <tr style=\"text-align: right;\">\n",
       "      <th></th>\n",
       "      <th>Total Players</th>\n",
       "    </tr>\n",
       "  </thead>\n",
       "  <tbody>\n",
       "    <tr>\n",
       "      <th>0</th>\n",
       "      <td>576</td>\n",
       "    </tr>\n",
       "  </tbody>\n",
       "</table>\n",
       "</div>"
      ],
      "text/plain": [
       "   Total Players\n",
       "0            576"
      ]
     },
     "execution_count": 4,
     "metadata": {},
     "output_type": "execute_result"
    }
   ],
   "source": [
    "player_types= purchase_data_df.loc[:, [\"Gender\", \"SN\", \"Age\"]]\n",
    "player_types = player_types.drop_duplicates()\n",
    "player_number = player_types.count()[0]     # Display the total number of players\n",
    "pd.DataFrame({\"Total Players\": [player_number]})\n"
   ]
  },
  {
   "cell_type": "markdown",
   "metadata": {},
   "source": [
    "## Purchasing Analysis (Total)"
   ]
  },
  {
   "cell_type": "markdown",
   "metadata": {},
   "source": [
    "* Run basic calculations to obtain number of unique items, average price, etc.\n",
    "\n",
    "\n",
    "* Create a summary data frame to hold the results\n",
    "\n",
    "\n",
    "* Optional: give the displayed data cleaner formatting\n",
    "\n",
    "\n",
    "* Display the summary data frame\n"
   ]
  },
  {
   "cell_type": "code",
   "execution_count": 5,
   "metadata": {
    "scrolled": true
   },
   "outputs": [
    {
     "data": {
      "text/html": [
       "<style  type=\"text/css\" >\n",
       "</style><table id=\"T_98ae6f38_788b_11eb_a26c_d8c0a623adee\" ><thead>    <tr>        <th class=\"blank level0\" ></th>        <th class=\"col_heading level0 col0\" >Number of Unique Items</th>        <th class=\"col_heading level0 col1\" >Average Price</th>        <th class=\"col_heading level0 col2\" >Number of Purchases</th>        <th class=\"col_heading level0 col3\" >Total Revenue</th>    </tr></thead><tbody>\n",
       "                <tr>\n",
       "                        <th id=\"T_98ae6f38_788b_11eb_a26c_d8c0a623adeelevel0_row0\" class=\"row_heading level0 row0\" >0</th>\n",
       "                        <td id=\"T_98ae6f38_788b_11eb_a26c_d8c0a623adeerow0_col0\" class=\"data row0 col0\" >179</td>\n",
       "                        <td id=\"T_98ae6f38_788b_11eb_a26c_d8c0a623adeerow0_col1\" class=\"data row0 col1\" >$3.05</td>\n",
       "                        <td id=\"T_98ae6f38_788b_11eb_a26c_d8c0a623adeerow0_col2\" class=\"data row0 col2\" >780</td>\n",
       "                        <td id=\"T_98ae6f38_788b_11eb_a26c_d8c0a623adeerow0_col3\" class=\"data row0 col3\" >$2,379.77</td>\n",
       "            </tr>\n",
       "    </tbody></table>"
      ],
      "text/plain": [
       "<pandas.io.formats.style.Styler at 0x19f26575490>"
      ]
     },
     "execution_count": 5,
     "metadata": {},
     "output_type": "execute_result"
    }
   ],
   "source": [
    "unique_items = len(purchase_data_df['Item ID'].unique())\n",
    "average_price= round(float(purchase_data_df['Price'].mean()), 2)\n",
    "purchase_count = len(purchase_data_df['Price'])\n",
    "price_total= float(purchase_data_df['Price'].sum())\n",
    "price_total\n",
    "\n",
    "summary_dataframe = pd.DataFrame({\n",
    "    'Number of Unique Items': [unique_items],\n",
    "    'Average Price': '$' + str(average_price),\n",
    "    'Number of Purchases': [purchase_count],\n",
    "    'Total Revenue':(price_total)})\n",
    "\n",
    "summary_dataframe.style.format({\"Total Revenue\": \"${:,.2f}\"}) "
   ]
  },
  {
   "cell_type": "markdown",
   "metadata": {},
   "source": [
    "## Gender Demographics"
   ]
  },
  {
   "cell_type": "markdown",
   "metadata": {},
   "source": [
    "* Percentage and Count of Male Players\n",
    "\n",
    "\n",
    "* Percentage and Count of Female Players\n",
    "\n",
    "\n",
    "* Percentage and Count of Other / Non-Disclosed\n",
    "\n",
    "\n"
   ]
  },
  {
   "cell_type": "code",
   "execution_count": 6,
   "metadata": {},
   "outputs": [
    {
     "data": {
      "text/html": [
       "<div>\n",
       "<style scoped>\n",
       "    .dataframe tbody tr th:only-of-type {\n",
       "        vertical-align: middle;\n",
       "    }\n",
       "\n",
       "    .dataframe tbody tr th {\n",
       "        vertical-align: top;\n",
       "    }\n",
       "\n",
       "    .dataframe thead th {\n",
       "        text-align: right;\n",
       "    }\n",
       "</style>\n",
       "<table border=\"1\" class=\"dataframe\">\n",
       "  <thead>\n",
       "    <tr style=\"text-align: right;\">\n",
       "      <th></th>\n",
       "      <th>Total Count</th>\n",
       "      <th>Percentage of Players</th>\n",
       "    </tr>\n",
       "  </thead>\n",
       "  <tbody>\n",
       "    <tr>\n",
       "      <th>Male</th>\n",
       "      <td>484</td>\n",
       "      <td>84.03%</td>\n",
       "    </tr>\n",
       "    <tr>\n",
       "      <th>Female</th>\n",
       "      <td>81</td>\n",
       "      <td>14.06%</td>\n",
       "    </tr>\n",
       "    <tr>\n",
       "      <th>Other / Non-Disclosed</th>\n",
       "      <td>11</td>\n",
       "      <td>1.91%</td>\n",
       "    </tr>\n",
       "  </tbody>\n",
       "</table>\n",
       "</div>"
      ],
      "text/plain": [
       "                       Total Count Percentage of Players\n",
       "Male                           484                84.03%\n",
       "Female                          81                14.06%\n",
       "Other / Non-Disclosed           11                 1.91%"
      ]
     },
     "execution_count": 6,
     "metadata": {},
     "output_type": "execute_result"
    }
   ],
   "source": [
    "df_genderDemos = purchase_data_df[['Gender','SN']].drop_duplicates(subset = 'SN')\n",
    "\n",
    "gender_count = df_genderDemos['Gender'].value_counts(0)\n",
    "gender_percent = df_genderDemos['Gender'].value_counts(1)\n",
    "\n",
    "gender_count_df = pd.DataFrame(gender_count)\n",
    "gender_percent_df = round(pd.DataFrame(gender_percent) * 100, 2).astype(str)+'%'\n",
    "\n",
    "gender_summary_df = gender_count_df.merge(gender_percent_df, left_index = True, right_index = True)\n",
    "gender_summary_df.columns = ['Total Count', 'Percentage of Players']\n",
    "gender_summary_df"
   ]
  },
  {
   "cell_type": "markdown",
   "metadata": {},
   "source": [
    "\n",
    "## Purchasing Analysis (Gender)"
   ]
  },
  {
   "cell_type": "markdown",
   "metadata": {},
   "source": [
    "* Run basic calculations to obtain purchase count, avg. purchase price, avg. purchase total per person etc. by gender\n",
    "\n",
    "\n",
    "\n",
    "\n",
    "* Create a summary data frame to hold the results\n",
    "\n",
    "\n",
    "* Optional: give the displayed data cleaner formatting\n",
    "\n",
    "\n",
    "* Display the summary data frame"
   ]
  },
  {
   "cell_type": "code",
   "execution_count": 7,
   "metadata": {},
   "outputs": [
    {
     "data": {
      "text/html": [
       "<style  type=\"text/css\" >\n",
       "</style><table id=\"T_98c0be74_788b_11eb_96e2_d8c0a623adee\" ><thead>    <tr>        <th class=\"blank level0\" ></th>        <th class=\"col_heading level0 col0\" >Purchase Count</th>        <th class=\"col_heading level0 col1\" >Average Purchase Price</th>        <th class=\"col_heading level0 col2\" >Total Purchase Value</th>        <th class=\"col_heading level0 col3\" >Avg Total Purchase per Person</th>    </tr>    <tr>        <th class=\"index_name level0\" >Gender</th>        <th class=\"blank\" ></th>        <th class=\"blank\" ></th>        <th class=\"blank\" ></th>        <th class=\"blank\" ></th>    </tr></thead><tbody>\n",
       "                <tr>\n",
       "                        <th id=\"T_98c0be74_788b_11eb_96e2_d8c0a623adeelevel0_row0\" class=\"row_heading level0 row0\" >Female</th>\n",
       "                        <td id=\"T_98c0be74_788b_11eb_96e2_d8c0a623adeerow0_col0\" class=\"data row0 col0\" >113</td>\n",
       "                        <td id=\"T_98c0be74_788b_11eb_96e2_d8c0a623adeerow0_col1\" class=\"data row0 col1\" >$3.20</td>\n",
       "                        <td id=\"T_98c0be74_788b_11eb_96e2_d8c0a623adeerow0_col2\" class=\"data row0 col2\" >$361.94</td>\n",
       "                        <td id=\"T_98c0be74_788b_11eb_96e2_d8c0a623adeerow0_col3\" class=\"data row0 col3\" >$4.47</td>\n",
       "            </tr>\n",
       "            <tr>\n",
       "                        <th id=\"T_98c0be74_788b_11eb_96e2_d8c0a623adeelevel0_row1\" class=\"row_heading level0 row1\" >Male</th>\n",
       "                        <td id=\"T_98c0be74_788b_11eb_96e2_d8c0a623adeerow1_col0\" class=\"data row1 col0\" >652</td>\n",
       "                        <td id=\"T_98c0be74_788b_11eb_96e2_d8c0a623adeerow1_col1\" class=\"data row1 col1\" >$3.02</td>\n",
       "                        <td id=\"T_98c0be74_788b_11eb_96e2_d8c0a623adeerow1_col2\" class=\"data row1 col2\" >$1,967.64</td>\n",
       "                        <td id=\"T_98c0be74_788b_11eb_96e2_d8c0a623adeerow1_col3\" class=\"data row1 col3\" >$4.07</td>\n",
       "            </tr>\n",
       "            <tr>\n",
       "                        <th id=\"T_98c0be74_788b_11eb_96e2_d8c0a623adeelevel0_row2\" class=\"row_heading level0 row2\" >Other / Non-Disclosed</th>\n",
       "                        <td id=\"T_98c0be74_788b_11eb_96e2_d8c0a623adeerow2_col0\" class=\"data row2 col0\" >15</td>\n",
       "                        <td id=\"T_98c0be74_788b_11eb_96e2_d8c0a623adeerow2_col1\" class=\"data row2 col1\" >$3.35</td>\n",
       "                        <td id=\"T_98c0be74_788b_11eb_96e2_d8c0a623adeerow2_col2\" class=\"data row2 col2\" >$50.19</td>\n",
       "                        <td id=\"T_98c0be74_788b_11eb_96e2_d8c0a623adeerow2_col3\" class=\"data row2 col3\" >$4.56</td>\n",
       "            </tr>\n",
       "    </tbody></table>"
      ],
      "text/plain": [
       "<pandas.io.formats.style.Styler at 0x19f286e4be0>"
      ]
     },
     "execution_count": 7,
     "metadata": {},
     "output_type": "execute_result"
    }
   ],
   "source": [
    "df_pa_gender = purchase_data_df.groupby('Gender')\n",
    "\n",
    "purchase_count = round(df_pa_gender['Purchase ID'].count(), 0)\n",
    "avg_purchase_price = round(df_pa_gender['Price'].mean(), 2).map(\"${:,.2f}\".format)\n",
    "total_purchase_value = round(df_pa_gender['Price'].sum(), 2)\n",
    "purchase_value_per_gender = round(total_purchase_value / gender_count, 2).map(\"${:,.2f}\".format)\n",
    "\n",
    "summary_dataframe2 = pd.DataFrame([purchase_count, avg_purchase_price, total_purchase_value, purchase_value_per_gender])\n",
    "summary_pa_gender = summary_dataframe2.T\n",
    "\n",
    "summary_pa_gender.columns = ['Purchase Count','Average Purchase Price','Total Purchase Value', 'Avg Total Purchase per Person']\n",
    "\n",
    "summary_pa_gender.style.format({\"Total Purchase Value\": \"${:,.2f}\"}) "
   ]
  },
  {
   "cell_type": "markdown",
   "metadata": {},
   "source": [
    "## Age Demographics"
   ]
  },
  {
   "cell_type": "markdown",
   "metadata": {},
   "source": [
    "* Establish bins for ages\n",
    "\n",
    "\n",
    "* Categorize the existing players using the age bins. Hint: use pd.cut()\n",
    "\n",
    "\n",
    "* Calculate the numbers and percentages by age group\n",
    "\n",
    "\n",
    "* Create a summary data frame to hold the results\n",
    "\n",
    "\n",
    "* Optional: round the percentage column to two decimal points\n",
    "\n",
    "\n",
    "* Display Age Demographics Table\n"
   ]
  },
  {
   "cell_type": "code",
   "execution_count": 8,
   "metadata": {},
   "outputs": [
    {
     "data": {
      "text/html": [
       "<div>\n",
       "<style scoped>\n",
       "    .dataframe tbody tr th:only-of-type {\n",
       "        vertical-align: middle;\n",
       "    }\n",
       "\n",
       "    .dataframe tbody tr th {\n",
       "        vertical-align: top;\n",
       "    }\n",
       "\n",
       "    .dataframe thead th {\n",
       "        text-align: right;\n",
       "    }\n",
       "</style>\n",
       "<table border=\"1\" class=\"dataframe\">\n",
       "  <thead>\n",
       "    <tr style=\"text-align: right;\">\n",
       "      <th></th>\n",
       "      <th>Total Count</th>\n",
       "      <th>Percentage of Players</th>\n",
       "    </tr>\n",
       "    <tr>\n",
       "      <th>Total Count</th>\n",
       "      <th></th>\n",
       "      <th></th>\n",
       "    </tr>\n",
       "  </thead>\n",
       "  <tbody>\n",
       "    <tr>\n",
       "      <th>&lt;10</th>\n",
       "      <td>17</td>\n",
       "      <td>2.95%</td>\n",
       "    </tr>\n",
       "    <tr>\n",
       "      <th>10-14</th>\n",
       "      <td>22</td>\n",
       "      <td>3.82%</td>\n",
       "    </tr>\n",
       "    <tr>\n",
       "      <th>15-19</th>\n",
       "      <td>107</td>\n",
       "      <td>18.58%</td>\n",
       "    </tr>\n",
       "    <tr>\n",
       "      <th>20-24</th>\n",
       "      <td>258</td>\n",
       "      <td>44.79%</td>\n",
       "    </tr>\n",
       "    <tr>\n",
       "      <th>25-29</th>\n",
       "      <td>77</td>\n",
       "      <td>13.37%</td>\n",
       "    </tr>\n",
       "    <tr>\n",
       "      <th>30-34</th>\n",
       "      <td>52</td>\n",
       "      <td>9.03%</td>\n",
       "    </tr>\n",
       "    <tr>\n",
       "      <th>35-39</th>\n",
       "      <td>31</td>\n",
       "      <td>5.38%</td>\n",
       "    </tr>\n",
       "    <tr>\n",
       "      <th>40+</th>\n",
       "      <td>12</td>\n",
       "      <td>2.08%</td>\n",
       "    </tr>\n",
       "  </tbody>\n",
       "</table>\n",
       "</div>"
      ],
      "text/plain": [
       "            Total Count Percentage of Players\n",
       "Total Count                                  \n",
       "<10                  17                 2.95%\n",
       "10-14                22                 3.82%\n",
       "15-19               107                18.58%\n",
       "20-24               258                44.79%\n",
       "25-29                77                13.37%\n",
       "30-34                52                 9.03%\n",
       "35-39                31                 5.38%\n",
       "40+                  12                 2.08%"
      ]
     },
     "execution_count": 8,
     "metadata": {},
     "output_type": "execute_result"
    }
   ],
   "source": [
    "bins = [0, 9, 14, 19, 24, 29, 34, 39, 150]\n",
    "bin_labels = ['<10', '10-14', '15-19', '20-24', '25-29', '30-34', '35-39', '40+']\n",
    "\n",
    "purchase_data_df[\"Total Count\"] = pd.cut(purchase_data_df[\"Age\"], bins, labels=bin_labels)\n",
    "df_age1 = purchase_data_df[['Total Count','SN']].drop_duplicates(subset = 'SN')\n",
    "\n",
    "age_demographics_summary = df_age1.groupby(\"Total Count\").count()\n",
    "age_counts = age_demographics_summary['SN']\n",
    "age_demographics_percentages = round(age_counts / 576 * 100, 2).astype(str)+'%'\n",
    "age_demographics_percentages\n",
    "\n",
    "summary_age_demographics = pd.DataFrame([age_counts, age_demographics_percentages])\n",
    "\n",
    "summary_data = summary_age_demographics.T.astype(str)\n",
    "\n",
    "summary_data.columns = ['Total Count', 'Percentage of Players']\n",
    "\n",
    "summary_data.head(8)"
   ]
  },
  {
   "cell_type": "markdown",
   "metadata": {},
   "source": [
    "## Purchasing Analysis (Age)"
   ]
  },
  {
   "cell_type": "markdown",
   "metadata": {},
   "source": [
    "* Bin the purchase_data data frame by age\n",
    "\n",
    "\n",
    "* Run basic calculations to obtain purchase count, avg. purchase price, avg. purchase total per person etc. in the table below\n",
    "\n",
    "\n",
    "* Create a summary data frame to hold the results\n",
    "\n",
    "\n",
    "* Optional: give the displayed data cleaner formatting\n",
    "\n",
    "\n",
    "* Display the summary data frame"
   ]
  },
  {
   "cell_type": "code",
   "execution_count": 9,
   "metadata": {
    "scrolled": true
   },
   "outputs": [
    {
     "data": {
      "text/html": [
       "<style  type=\"text/css\" >\n",
       "</style><table id=\"T_98d000e6_788b_11eb_8f3e_d8c0a623adee\" ><thead>    <tr>        <th class=\"blank level0\" ></th>        <th class=\"col_heading level0 col0\" >Purchase Count</th>        <th class=\"col_heading level0 col1\" >Average Purchase Price</th>        <th class=\"col_heading level0 col2\" >Total Purchase Value</th>        <th class=\"col_heading level0 col3\" >Avg Total Purchase per Person</th>    </tr>    <tr>        <th class=\"index_name level0\" >Total Count</th>        <th class=\"blank\" ></th>        <th class=\"blank\" ></th>        <th class=\"blank\" ></th>        <th class=\"blank\" ></th>    </tr></thead><tbody>\n",
       "                <tr>\n",
       "                        <th id=\"T_98d000e6_788b_11eb_8f3e_d8c0a623adeelevel0_row0\" class=\"row_heading level0 row0\" ><10</th>\n",
       "                        <td id=\"T_98d000e6_788b_11eb_8f3e_d8c0a623adeerow0_col0\" class=\"data row0 col0\" >23</td>\n",
       "                        <td id=\"T_98d000e6_788b_11eb_8f3e_d8c0a623adeerow0_col1\" class=\"data row0 col1\" >$3.35</td>\n",
       "                        <td id=\"T_98d000e6_788b_11eb_8f3e_d8c0a623adeerow0_col2\" class=\"data row0 col2\" >$77.13</td>\n",
       "                        <td id=\"T_98d000e6_788b_11eb_8f3e_d8c0a623adeerow0_col3\" class=\"data row0 col3\" >$4.54</td>\n",
       "            </tr>\n",
       "            <tr>\n",
       "                        <th id=\"T_98d000e6_788b_11eb_8f3e_d8c0a623adeelevel0_row1\" class=\"row_heading level0 row1\" >10-14</th>\n",
       "                        <td id=\"T_98d000e6_788b_11eb_8f3e_d8c0a623adeerow1_col0\" class=\"data row1 col0\" >28</td>\n",
       "                        <td id=\"T_98d000e6_788b_11eb_8f3e_d8c0a623adeerow1_col1\" class=\"data row1 col1\" >$2.96</td>\n",
       "                        <td id=\"T_98d000e6_788b_11eb_8f3e_d8c0a623adeerow1_col2\" class=\"data row1 col2\" >$82.78</td>\n",
       "                        <td id=\"T_98d000e6_788b_11eb_8f3e_d8c0a623adeerow1_col3\" class=\"data row1 col3\" >$3.76</td>\n",
       "            </tr>\n",
       "            <tr>\n",
       "                        <th id=\"T_98d000e6_788b_11eb_8f3e_d8c0a623adeelevel0_row2\" class=\"row_heading level0 row2\" >15-19</th>\n",
       "                        <td id=\"T_98d000e6_788b_11eb_8f3e_d8c0a623adeerow2_col0\" class=\"data row2 col0\" >136</td>\n",
       "                        <td id=\"T_98d000e6_788b_11eb_8f3e_d8c0a623adeerow2_col1\" class=\"data row2 col1\" >$3.04</td>\n",
       "                        <td id=\"T_98d000e6_788b_11eb_8f3e_d8c0a623adeerow2_col2\" class=\"data row2 col2\" >$412.89</td>\n",
       "                        <td id=\"T_98d000e6_788b_11eb_8f3e_d8c0a623adeerow2_col3\" class=\"data row2 col3\" >$3.86</td>\n",
       "            </tr>\n",
       "            <tr>\n",
       "                        <th id=\"T_98d000e6_788b_11eb_8f3e_d8c0a623adeelevel0_row3\" class=\"row_heading level0 row3\" >20-24</th>\n",
       "                        <td id=\"T_98d000e6_788b_11eb_8f3e_d8c0a623adeerow3_col0\" class=\"data row3 col0\" >365</td>\n",
       "                        <td id=\"T_98d000e6_788b_11eb_8f3e_d8c0a623adeerow3_col1\" class=\"data row3 col1\" >$3.05</td>\n",
       "                        <td id=\"T_98d000e6_788b_11eb_8f3e_d8c0a623adeerow3_col2\" class=\"data row3 col2\" >$1,114.06</td>\n",
       "                        <td id=\"T_98d000e6_788b_11eb_8f3e_d8c0a623adeerow3_col3\" class=\"data row3 col3\" >$4.32</td>\n",
       "            </tr>\n",
       "            <tr>\n",
       "                        <th id=\"T_98d000e6_788b_11eb_8f3e_d8c0a623adeelevel0_row4\" class=\"row_heading level0 row4\" >25-29</th>\n",
       "                        <td id=\"T_98d000e6_788b_11eb_8f3e_d8c0a623adeerow4_col0\" class=\"data row4 col0\" >101</td>\n",
       "                        <td id=\"T_98d000e6_788b_11eb_8f3e_d8c0a623adeerow4_col1\" class=\"data row4 col1\" >$2.90</td>\n",
       "                        <td id=\"T_98d000e6_788b_11eb_8f3e_d8c0a623adeerow4_col2\" class=\"data row4 col2\" >$293.00</td>\n",
       "                        <td id=\"T_98d000e6_788b_11eb_8f3e_d8c0a623adeerow4_col3\" class=\"data row4 col3\" >$3.81</td>\n",
       "            </tr>\n",
       "            <tr>\n",
       "                        <th id=\"T_98d000e6_788b_11eb_8f3e_d8c0a623adeelevel0_row5\" class=\"row_heading level0 row5\" >30-34</th>\n",
       "                        <td id=\"T_98d000e6_788b_11eb_8f3e_d8c0a623adeerow5_col0\" class=\"data row5 col0\" >73</td>\n",
       "                        <td id=\"T_98d000e6_788b_11eb_8f3e_d8c0a623adeerow5_col1\" class=\"data row5 col1\" >$2.93</td>\n",
       "                        <td id=\"T_98d000e6_788b_11eb_8f3e_d8c0a623adeerow5_col2\" class=\"data row5 col2\" >$214.00</td>\n",
       "                        <td id=\"T_98d000e6_788b_11eb_8f3e_d8c0a623adeerow5_col3\" class=\"data row5 col3\" >$4.12</td>\n",
       "            </tr>\n",
       "            <tr>\n",
       "                        <th id=\"T_98d000e6_788b_11eb_8f3e_d8c0a623adeelevel0_row6\" class=\"row_heading level0 row6\" >35-39</th>\n",
       "                        <td id=\"T_98d000e6_788b_11eb_8f3e_d8c0a623adeerow6_col0\" class=\"data row6 col0\" >41</td>\n",
       "                        <td id=\"T_98d000e6_788b_11eb_8f3e_d8c0a623adeerow6_col1\" class=\"data row6 col1\" >$3.60</td>\n",
       "                        <td id=\"T_98d000e6_788b_11eb_8f3e_d8c0a623adeerow6_col2\" class=\"data row6 col2\" >$147.67</td>\n",
       "                        <td id=\"T_98d000e6_788b_11eb_8f3e_d8c0a623adeerow6_col3\" class=\"data row6 col3\" >$4.76</td>\n",
       "            </tr>\n",
       "            <tr>\n",
       "                        <th id=\"T_98d000e6_788b_11eb_8f3e_d8c0a623adeelevel0_row7\" class=\"row_heading level0 row7\" >40+</th>\n",
       "                        <td id=\"T_98d000e6_788b_11eb_8f3e_d8c0a623adeerow7_col0\" class=\"data row7 col0\" >13</td>\n",
       "                        <td id=\"T_98d000e6_788b_11eb_8f3e_d8c0a623adeerow7_col1\" class=\"data row7 col1\" >$2.94</td>\n",
       "                        <td id=\"T_98d000e6_788b_11eb_8f3e_d8c0a623adeerow7_col2\" class=\"data row7 col2\" >$38.24</td>\n",
       "                        <td id=\"T_98d000e6_788b_11eb_8f3e_d8c0a623adeerow7_col3\" class=\"data row7 col3\" >$3.19</td>\n",
       "            </tr>\n",
       "    </tbody></table>"
      ],
      "text/plain": [
       "<pandas.io.formats.style.Styler at 0x19f2987b760>"
      ]
     },
     "execution_count": 9,
     "metadata": {},
     "output_type": "execute_result"
    }
   ],
   "source": [
    "bins = [0, 9, 14, 19, 24, 29, 34, 39, 150]\n",
    "bin_labels = ['<10', '10-14', '15-19', '20-24', '25-29', '30-34', '35-39', '40+']\n",
    "\n",
    "purchase_data_df[\"Total Count\"] = pd.cut(purchase_data_df[\"Age\"], bins, labels=bin_labels)\n",
    "min_rows = purchase_data_df[['Total Count','SN', 'Price']]\n",
    "\n",
    "min_rows_grouped = min_rows.groupby('Total Count')\n",
    "purchase_counts = min_rows_grouped['Price'].count()\n",
    "average_prices = round(min_rows_grouped['Price'].mean(),2).map(\"${:,.2f}\".format)\n",
    "\n",
    "total_spent = round(min_rows_grouped['Price'].sum(),2)\n",
    "\n",
    "spending_per_person = round(total_spent/age_counts,2).map(\"${:,.2f}\".format)\n",
    "\n",
    "                          \n",
    "summary_pa_age = pd.DataFrame([purchase_counts, average_prices, total_spent, spending_per_person])\n",
    "summary_pa_age_b = summary_pa_age.T\n",
    "summary_pa_age_b.columns = ['Purchase Count', 'Average Purchase Price', 'Total Purchase Value', 'Avg Total Purchase per Person']\n",
    "\n",
    "\n",
    "summary_pa_age_b.head(8).style.format({\"Total Purchase Value\": \"${:,.2f}\"})"
   ]
  },
  {
   "cell_type": "markdown",
   "metadata": {},
   "source": [
    "## Top Spenders"
   ]
  },
  {
   "cell_type": "markdown",
   "metadata": {},
   "source": [
    "* Run basic calculations to obtain the results in the table below\n",
    "\n",
    "\n",
    "* Create a summary data frame to hold the results\n",
    "\n",
    "\n",
    "* Sort the total purchase value column in descending order\n",
    "\n",
    "\n",
    "* Optional: give the displayed data cleaner formatting\n",
    "\n",
    "\n",
    "* Display a preview of the summary data frame\n",
    "\n"
   ]
  },
  {
   "cell_type": "code",
   "execution_count": 10,
   "metadata": {
    "scrolled": true
   },
   "outputs": [
    {
     "data": {
      "text/html": [
       "<style  type=\"text/css\" >\n",
       "</style><table id=\"T_98dad6a6_788b_11eb_83fd_d8c0a623adee\" ><thead>    <tr>        <th class=\"blank level0\" ></th>        <th class=\"col_heading level0 col0\" >SN</th>        <th class=\"col_heading level0 col1\" >Purchase Count</th>        <th class=\"col_heading level0 col2\" >Average Purchase Price</th>        <th class=\"col_heading level0 col3\" >Total Purchase Value</th>    </tr></thead><tbody>\n",
       "                <tr>\n",
       "                        <th id=\"T_98dad6a6_788b_11eb_83fd_d8c0a623adeelevel0_row0\" class=\"row_heading level0 row0\" >0</th>\n",
       "                        <td id=\"T_98dad6a6_788b_11eb_83fd_d8c0a623adeerow0_col0\" class=\"data row0 col0\" >Lisosia93</td>\n",
       "                        <td id=\"T_98dad6a6_788b_11eb_83fd_d8c0a623adeerow0_col1\" class=\"data row0 col1\" >5</td>\n",
       "                        <td id=\"T_98dad6a6_788b_11eb_83fd_d8c0a623adeerow0_col2\" class=\"data row0 col2\" >$3.79</td>\n",
       "                        <td id=\"T_98dad6a6_788b_11eb_83fd_d8c0a623adeerow0_col3\" class=\"data row0 col3\" >$18.96</td>\n",
       "            </tr>\n",
       "            <tr>\n",
       "                        <th id=\"T_98dad6a6_788b_11eb_83fd_d8c0a623adeelevel0_row1\" class=\"row_heading level0 row1\" >1</th>\n",
       "                        <td id=\"T_98dad6a6_788b_11eb_83fd_d8c0a623adeerow1_col0\" class=\"data row1 col0\" >Idastidru52</td>\n",
       "                        <td id=\"T_98dad6a6_788b_11eb_83fd_d8c0a623adeerow1_col1\" class=\"data row1 col1\" >4</td>\n",
       "                        <td id=\"T_98dad6a6_788b_11eb_83fd_d8c0a623adeerow1_col2\" class=\"data row1 col2\" >$3.86</td>\n",
       "                        <td id=\"T_98dad6a6_788b_11eb_83fd_d8c0a623adeerow1_col3\" class=\"data row1 col3\" >$15.45</td>\n",
       "            </tr>\n",
       "            <tr>\n",
       "                        <th id=\"T_98dad6a6_788b_11eb_83fd_d8c0a623adeelevel0_row2\" class=\"row_heading level0 row2\" >2</th>\n",
       "                        <td id=\"T_98dad6a6_788b_11eb_83fd_d8c0a623adeerow2_col0\" class=\"data row2 col0\" >Chamjask73</td>\n",
       "                        <td id=\"T_98dad6a6_788b_11eb_83fd_d8c0a623adeerow2_col1\" class=\"data row2 col1\" >3</td>\n",
       "                        <td id=\"T_98dad6a6_788b_11eb_83fd_d8c0a623adeerow2_col2\" class=\"data row2 col2\" >$4.61</td>\n",
       "                        <td id=\"T_98dad6a6_788b_11eb_83fd_d8c0a623adeerow2_col3\" class=\"data row2 col3\" >$13.83</td>\n",
       "            </tr>\n",
       "            <tr>\n",
       "                        <th id=\"T_98dad6a6_788b_11eb_83fd_d8c0a623adeelevel0_row3\" class=\"row_heading level0 row3\" >3</th>\n",
       "                        <td id=\"T_98dad6a6_788b_11eb_83fd_d8c0a623adeerow3_col0\" class=\"data row3 col0\" >Iral74</td>\n",
       "                        <td id=\"T_98dad6a6_788b_11eb_83fd_d8c0a623adeerow3_col1\" class=\"data row3 col1\" >4</td>\n",
       "                        <td id=\"T_98dad6a6_788b_11eb_83fd_d8c0a623adeerow3_col2\" class=\"data row3 col2\" >$3.40</td>\n",
       "                        <td id=\"T_98dad6a6_788b_11eb_83fd_d8c0a623adeerow3_col3\" class=\"data row3 col3\" >$13.62</td>\n",
       "            </tr>\n",
       "            <tr>\n",
       "                        <th id=\"T_98dad6a6_788b_11eb_83fd_d8c0a623adeelevel0_row4\" class=\"row_heading level0 row4\" >4</th>\n",
       "                        <td id=\"T_98dad6a6_788b_11eb_83fd_d8c0a623adeerow4_col0\" class=\"data row4 col0\" >Iskadarya95</td>\n",
       "                        <td id=\"T_98dad6a6_788b_11eb_83fd_d8c0a623adeerow4_col1\" class=\"data row4 col1\" >3</td>\n",
       "                        <td id=\"T_98dad6a6_788b_11eb_83fd_d8c0a623adeerow4_col2\" class=\"data row4 col2\" >$4.37</td>\n",
       "                        <td id=\"T_98dad6a6_788b_11eb_83fd_d8c0a623adeerow4_col3\" class=\"data row4 col3\" >$13.10</td>\n",
       "            </tr>\n",
       "    </tbody></table>"
      ],
      "text/plain": [
       "<pandas.io.formats.style.Styler at 0x19f2657ba30>"
      ]
     },
     "execution_count": 10,
     "metadata": {},
     "output_type": "execute_result"
    }
   ],
   "source": [
    "df_sn_2 = purchase_data_df.groupby('SN')\n",
    "purchase_counts = df_sn_2['Gender'].count()\n",
    "average_spending = round(df_sn_2['Price'].mean(),2)\n",
    "total_purchase = round(df_sn_2['Price'].sum(),2)\n",
    "\n",
    "summary_Top_Spend = pd.DataFrame([purchase_counts, average_spending, total_purchase])\n",
    "summary_Top_Spend_b = summary_Top_Spend.T\n",
    "summary_Top_Spend_b.columns = ['Purchase Count', 'Average Purchase Price', 'Total Purchase Value']\n",
    "summary_Top_Spend_b.sort_values('Total Purchase Value', ascending=False).reset_index().head().style.format(\n",
    "    {\"Purchase Count\":\"{:,.0f}\",\"Total Purchase Value\":\"${:,.2f}\",\"Average Purchase Price\":\"${:,.2f}\"})"
   ]
  },
  {
   "cell_type": "markdown",
   "metadata": {},
   "source": [
    "## Most Popular Items"
   ]
  },
  {
   "cell_type": "markdown",
   "metadata": {},
   "source": [
    "* Retrieve the Item ID, Item Name, and Item Price columns\n",
    "\n",
    "\n",
    "* Group by Item ID and Item Name. Perform calculations to obtain purchase count, average item price, and total purchase value\n",
    "\n",
    "\n",
    "* Create a summary data frame to hold the results\n",
    "\n",
    "\n",
    "* Sort the purchase count column in descending order\n",
    "\n",
    "\n",
    "* Optional: give the displayed data cleaner formatting\n",
    "\n",
    "\n",
    "* Display a preview of the summary data frame\n",
    "\n"
   ]
  },
  {
   "cell_type": "code",
   "execution_count": 11,
   "metadata": {},
   "outputs": [
    {
     "data": {
      "text/html": [
       "<style  type=\"text/css\" >\n",
       "</style><table id=\"T_98e3b061_788b_11eb_9a99_d8c0a623adee\" ><thead>    <tr>        <th class=\"blank\" ></th>        <th class=\"blank level0\" ></th>        <th class=\"col_heading level0 col0\" >Purchase Count</th>        <th class=\"col_heading level0 col1\" >Item Price</th>        <th class=\"col_heading level0 col2\" >Total Purchase Value</th>    </tr>    <tr>        <th class=\"index_name level0\" >Item ID</th>        <th class=\"index_name level1\" >Item Name</th>        <th class=\"blank\" ></th>        <th class=\"blank\" ></th>        <th class=\"blank\" ></th>    </tr></thead><tbody>\n",
       "                <tr>\n",
       "                        <th id=\"T_98e3b061_788b_11eb_9a99_d8c0a623adeelevel0_row0\" class=\"row_heading level0 row0\" >92</th>\n",
       "                        <th id=\"T_98e3b061_788b_11eb_9a99_d8c0a623adeelevel1_row0\" class=\"row_heading level1 row0\" >Final Critic</th>\n",
       "                        <td id=\"T_98e3b061_788b_11eb_9a99_d8c0a623adeerow0_col0\" class=\"data row0 col0\" >13</td>\n",
       "                        <td id=\"T_98e3b061_788b_11eb_9a99_d8c0a623adeerow0_col1\" class=\"data row0 col1\" >$4.61</td>\n",
       "                        <td id=\"T_98e3b061_788b_11eb_9a99_d8c0a623adeerow0_col2\" class=\"data row0 col2\" >$59.99</td>\n",
       "            </tr>\n",
       "            <tr>\n",
       "                        <th id=\"T_98e3b061_788b_11eb_9a99_d8c0a623adeelevel0_row1\" class=\"row_heading level0 row1\" >178</th>\n",
       "                        <th id=\"T_98e3b061_788b_11eb_9a99_d8c0a623adeelevel1_row1\" class=\"row_heading level1 row1\" >Oathbreaker, Last Hope of the Breaking Storm</th>\n",
       "                        <td id=\"T_98e3b061_788b_11eb_9a99_d8c0a623adeerow1_col0\" class=\"data row1 col0\" >12</td>\n",
       "                        <td id=\"T_98e3b061_788b_11eb_9a99_d8c0a623adeerow1_col1\" class=\"data row1 col1\" >$4.23</td>\n",
       "                        <td id=\"T_98e3b061_788b_11eb_9a99_d8c0a623adeerow1_col2\" class=\"data row1 col2\" >$50.76</td>\n",
       "            </tr>\n",
       "            <tr>\n",
       "                        <th id=\"T_98e3b061_788b_11eb_9a99_d8c0a623adeelevel0_row2\" class=\"row_heading level0 row2\" >145</th>\n",
       "                        <th id=\"T_98e3b061_788b_11eb_9a99_d8c0a623adeelevel1_row2\" class=\"row_heading level1 row2\" >Fiery Glass Crusader</th>\n",
       "                        <td id=\"T_98e3b061_788b_11eb_9a99_d8c0a623adeerow2_col0\" class=\"data row2 col0\" >9</td>\n",
       "                        <td id=\"T_98e3b061_788b_11eb_9a99_d8c0a623adeerow2_col1\" class=\"data row2 col1\" >$4.58</td>\n",
       "                        <td id=\"T_98e3b061_788b_11eb_9a99_d8c0a623adeerow2_col2\" class=\"data row2 col2\" >$41.22</td>\n",
       "            </tr>\n",
       "            <tr>\n",
       "                        <th id=\"T_98e3b061_788b_11eb_9a99_d8c0a623adeelevel0_row3\" class=\"row_heading level0 row3\" >132</th>\n",
       "                        <th id=\"T_98e3b061_788b_11eb_9a99_d8c0a623adeelevel1_row3\" class=\"row_heading level1 row3\" >Persuasion</th>\n",
       "                        <td id=\"T_98e3b061_788b_11eb_9a99_d8c0a623adeerow3_col0\" class=\"data row3 col0\" >9</td>\n",
       "                        <td id=\"T_98e3b061_788b_11eb_9a99_d8c0a623adeerow3_col1\" class=\"data row3 col1\" >$3.22</td>\n",
       "                        <td id=\"T_98e3b061_788b_11eb_9a99_d8c0a623adeerow3_col2\" class=\"data row3 col2\" >$28.99</td>\n",
       "            </tr>\n",
       "            <tr>\n",
       "                        <th id=\"T_98e3b061_788b_11eb_9a99_d8c0a623adeelevel0_row4\" class=\"row_heading level0 row4\" >108</th>\n",
       "                        <th id=\"T_98e3b061_788b_11eb_9a99_d8c0a623adeelevel1_row4\" class=\"row_heading level1 row4\" >Extraction, Quickblade Of Trembling Hands</th>\n",
       "                        <td id=\"T_98e3b061_788b_11eb_9a99_d8c0a623adeerow4_col0\" class=\"data row4 col0\" >9</td>\n",
       "                        <td id=\"T_98e3b061_788b_11eb_9a99_d8c0a623adeerow4_col1\" class=\"data row4 col1\" >$3.53</td>\n",
       "                        <td id=\"T_98e3b061_788b_11eb_9a99_d8c0a623adeerow4_col2\" class=\"data row4 col2\" >$31.77</td>\n",
       "            </tr>\n",
       "    </tbody></table>"
      ],
      "text/plain": [
       "<pandas.io.formats.style.Styler at 0x19f2982c4f0>"
      ]
     },
     "execution_count": 11,
     "metadata": {},
     "output_type": "execute_result"
    }
   ],
   "source": [
    "df_sn_3 = purchase_data_df.groupby(['Item ID', 'Item Name'])\n",
    "purchase_counts2 = df_sn_3['Gender'].count()\n",
    "average_spending2 = round(df_sn_3['Price'].mean(),2)\n",
    "total_purchase2 = round(df_sn_3['Price'].sum(),2)\n",
    "\n",
    "summary_top_spend_b = pd.DataFrame([purchase_counts2, average_spending2, total_purchase2])\n",
    "summary_M_Pop_Items = summary_top_spend_b.T\n",
    "summary_M_Pop_Items.columns = ['Purchase Count', 'Item Price', 'Total Purchase Value']\n",
    "summary_M_Pop_Items_b = summary_M_Pop_Items.sort_values('Purchase Count', ascending=False)\n",
    "summary_M_Pop_Items_b .head().style.format(\n",
    "    {\"Purchase Count\":\"{0:,.0f}\",\"Total Purchase Value\": \"${:,.2f}\",\"Item Price\":\"${:,.2f}\"})"
   ]
  },
  {
   "cell_type": "markdown",
   "metadata": {},
   "source": [
    "## Most Profitable Items"
   ]
  },
  {
   "cell_type": "markdown",
   "metadata": {},
   "source": [
    "* Sort the above table by total purchase value in descending order\n",
    "\n",
    "\n",
    "* Optional: give the displayed data cleaner formatting\n",
    "\n",
    "\n",
    "* Display a preview of the data frame\n",
    "\n"
   ]
  },
  {
   "cell_type": "code",
   "execution_count": 12,
   "metadata": {
    "scrolled": true
   },
   "outputs": [
    {
     "data": {
      "text/html": [
       "<style  type=\"text/css\" >\n",
       "</style><table id=\"T_98e6e4a9_788b_11eb_8f82_d8c0a623adee\" ><thead>    <tr>        <th class=\"blank\" ></th>        <th class=\"blank level0\" ></th>        <th class=\"col_heading level0 col0\" >Purchase Count</th>        <th class=\"col_heading level0 col1\" >Item Price</th>        <th class=\"col_heading level0 col2\" >Total Purchase Value</th>    </tr>    <tr>        <th class=\"index_name level0\" >Item ID</th>        <th class=\"index_name level1\" >Item Name</th>        <th class=\"blank\" ></th>        <th class=\"blank\" ></th>        <th class=\"blank\" ></th>    </tr></thead><tbody>\n",
       "                <tr>\n",
       "                        <th id=\"T_98e6e4a9_788b_11eb_8f82_d8c0a623adeelevel0_row0\" class=\"row_heading level0 row0\" >92</th>\n",
       "                        <th id=\"T_98e6e4a9_788b_11eb_8f82_d8c0a623adeelevel1_row0\" class=\"row_heading level1 row0\" >Final Critic</th>\n",
       "                        <td id=\"T_98e6e4a9_788b_11eb_8f82_d8c0a623adeerow0_col0\" class=\"data row0 col0\" >13</td>\n",
       "                        <td id=\"T_98e6e4a9_788b_11eb_8f82_d8c0a623adeerow0_col1\" class=\"data row0 col1\" >$4.61</td>\n",
       "                        <td id=\"T_98e6e4a9_788b_11eb_8f82_d8c0a623adeerow0_col2\" class=\"data row0 col2\" >$59.99</td>\n",
       "            </tr>\n",
       "            <tr>\n",
       "                        <th id=\"T_98e6e4a9_788b_11eb_8f82_d8c0a623adeelevel0_row1\" class=\"row_heading level0 row1\" >178</th>\n",
       "                        <th id=\"T_98e6e4a9_788b_11eb_8f82_d8c0a623adeelevel1_row1\" class=\"row_heading level1 row1\" >Oathbreaker, Last Hope of the Breaking Storm</th>\n",
       "                        <td id=\"T_98e6e4a9_788b_11eb_8f82_d8c0a623adeerow1_col0\" class=\"data row1 col0\" >12</td>\n",
       "                        <td id=\"T_98e6e4a9_788b_11eb_8f82_d8c0a623adeerow1_col1\" class=\"data row1 col1\" >$4.23</td>\n",
       "                        <td id=\"T_98e6e4a9_788b_11eb_8f82_d8c0a623adeerow1_col2\" class=\"data row1 col2\" >$50.76</td>\n",
       "            </tr>\n",
       "            <tr>\n",
       "                        <th id=\"T_98e6e4a9_788b_11eb_8f82_d8c0a623adeelevel0_row2\" class=\"row_heading level0 row2\" >82</th>\n",
       "                        <th id=\"T_98e6e4a9_788b_11eb_8f82_d8c0a623adeelevel1_row2\" class=\"row_heading level1 row2\" >Nirvana</th>\n",
       "                        <td id=\"T_98e6e4a9_788b_11eb_8f82_d8c0a623adeerow2_col0\" class=\"data row2 col0\" >9</td>\n",
       "                        <td id=\"T_98e6e4a9_788b_11eb_8f82_d8c0a623adeerow2_col1\" class=\"data row2 col1\" >$4.90</td>\n",
       "                        <td id=\"T_98e6e4a9_788b_11eb_8f82_d8c0a623adeerow2_col2\" class=\"data row2 col2\" >$44.10</td>\n",
       "            </tr>\n",
       "            <tr>\n",
       "                        <th id=\"T_98e6e4a9_788b_11eb_8f82_d8c0a623adeelevel0_row3\" class=\"row_heading level0 row3\" >145</th>\n",
       "                        <th id=\"T_98e6e4a9_788b_11eb_8f82_d8c0a623adeelevel1_row3\" class=\"row_heading level1 row3\" >Fiery Glass Crusader</th>\n",
       "                        <td id=\"T_98e6e4a9_788b_11eb_8f82_d8c0a623adeerow3_col0\" class=\"data row3 col0\" >9</td>\n",
       "                        <td id=\"T_98e6e4a9_788b_11eb_8f82_d8c0a623adeerow3_col1\" class=\"data row3 col1\" >$4.58</td>\n",
       "                        <td id=\"T_98e6e4a9_788b_11eb_8f82_d8c0a623adeerow3_col2\" class=\"data row3 col2\" >$41.22</td>\n",
       "            </tr>\n",
       "            <tr>\n",
       "                        <th id=\"T_98e6e4a9_788b_11eb_8f82_d8c0a623adeelevel0_row4\" class=\"row_heading level0 row4\" >103</th>\n",
       "                        <th id=\"T_98e6e4a9_788b_11eb_8f82_d8c0a623adeelevel1_row4\" class=\"row_heading level1 row4\" >Singed Scalpel</th>\n",
       "                        <td id=\"T_98e6e4a9_788b_11eb_8f82_d8c0a623adeerow4_col0\" class=\"data row4 col0\" >8</td>\n",
       "                        <td id=\"T_98e6e4a9_788b_11eb_8f82_d8c0a623adeerow4_col1\" class=\"data row4 col1\" >$4.35</td>\n",
       "                        <td id=\"T_98e6e4a9_788b_11eb_8f82_d8c0a623adeerow4_col2\" class=\"data row4 col2\" >$34.80</td>\n",
       "            </tr>\n",
       "    </tbody></table>"
      ],
      "text/plain": [
       "<pandas.io.formats.style.Styler at 0x19f29874700>"
      ]
     },
     "execution_count": 12,
     "metadata": {},
     "output_type": "execute_result"
    }
   ],
   "source": [
    "summary_M_Pop_Items_b.sort_values('Total Purchase Value', ascending=False).head().style.format(\n",
    "    {\"Purchase Count\":\"{0:,.0f}\",\"Total Purchase Value\": \"${:,.2f}\",\"Item Price\":\"${:,.2f}\"})"
   ]
  },
  {
   "cell_type": "code",
   "execution_count": null,
   "metadata": {},
   "outputs": [],
   "source": []
  }
 ],
 "metadata": {
  "anaconda-cloud": {},
  "kernel_info": {
   "name": "python3"
  },
  "kernelspec": {
   "display_name": "Python 3",
   "language": "python",
   "name": "python3"
  },
  "language_info": {
   "codemirror_mode": {
    "name": "ipython",
    "version": 3
   },
   "file_extension": ".py",
   "mimetype": "text/x-python",
   "name": "python",
   "nbconvert_exporter": "python",
   "pygments_lexer": "ipython3",
   "version": "3.8.5"
  },
  "latex_envs": {
   "LaTeX_envs_menu_present": true,
   "autoclose": false,
   "autocomplete": true,
   "bibliofile": "biblio.bib",
   "cite_by": "apalike",
   "current_citInitial": 1,
   "eqLabelWithNumbers": true,
   "eqNumInitial": 1,
   "hotkeys": {
    "equation": "Ctrl-E",
    "itemize": "Ctrl-I"
   },
   "labels_anchors": false,
   "latex_user_defs": false,
   "report_style_numbering": false,
   "user_envs_cfg": false
  },
  "nteract": {
   "version": "0.2.0"
  }
 },
 "nbformat": 4,
 "nbformat_minor": 2
}
